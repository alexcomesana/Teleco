{
  "cells": [
    {
      "cell_type": "markdown",
      "metadata": {
        "id": "fxFp89AR9iv2"
      },
      "source": [
        "# Instructions\n",
        "\n",
        "**Using Python (Jupyter Note), solve the following problems.**\n",
        "\n",
        "1.  **Upload the .ipyjn file (practice1_name_student.ipynb)**\n",
        "\n",
        "2.  **Write an individual report including and explaining the results of\n",
        "    the computation and the plots of the figures.**\n",
        "\n",
        "\n",
        "## Problem 1\n",
        "\n",
        "Compute the variations of the Right Ascension of the Ascending\n",
        " Node (RAAN) and the Argument of the Perigee (w) due to the effects\n",
        " of the asymmetry of the earth, and the perturbations associated with\n",
        " the moon and the sun for the following orbits:\n",
        "\n",
        "| Name/Type of the orbit | a (Km) | eccentricity | i (º) |\n",
        "|------------------------|--------|--------------|-------|\n",
        "| Shuttle                | 6700   | 0            | 28    |\n",
        "| Sun Synchronous        | 6728   | 0            | 98.85 |\n",
        "| GPS                    | 26.600 | 0            | 60    |\n",
        "| Molniya                | 26600  | 0.75         | 63.4  |\n",
        "| GEO                    | 42160  | 0            | 0     |\n"
      ]
    },
    {
      "cell_type": "markdown",
      "metadata": {
        "id": "-J0qdrxv9iv5"
      },
      "source": [
        "## Resolution of Problem 1\n"
      ]
    },
    {
      "cell_type": "markdown",
      "metadata": {
        "id": "hK1tdVGm9iv5"
      },
      "source": [
        "<img src=\"https://www.dropbox.com/s/mp0p312eyhaujth/Keplerian_elements.png?raw=1 \" width=\"400\" class=\"center\" />\n",
        "    \n",
        "\n",
        "**RAAN($\\Omega$)** = Right Ascension of the ascending node \n",
        "\n",
        "**AP($\\omega$)** = Argument of the Perigee\n",
        "\n",
        "List of parameters:\n",
        "\n",
        "* **a** semimajor axis in Km\n",
        "* **inclination** = orbital inclination\n",
        "* **n** = number of orbit revolutions per day\n",
        "* **RAAN_effect(sun,moon,nonspherical earth)_variation** = precession of the Right Ascension in degrees/day\n",
        "* **AP_effect(sun,moon,nonspherical earth)_variation** = precession of the Argument of Perigee in degrees/day\n",
        "\n",
        "### Third-Body Perturbations\n",
        "\n",
        "The gravitational forces ofthe Sun and the Moon cause periodic variations in all of the orbital elements, but only the right ascension ofthe ascending node, argument of perigee, and mean anomaly experience secular variations. These secular variations arisefromagyroscopicprecessionoftheorbitabouttheeclipticpole.Thesecularvari- ation in mean anomaly is much smaller than the mean motion and has little effect on the orbit; however, the secular variationS in right ascension ofthe ascending node and argument ofperigee are important, especially for high-altitude orbits.\n",
        "\n",
        "For nearly circular orbits, $e^2$ is almost zero and the resulting error is o f the order $e^2$. In this case, the equations for the secular rates of change resulting from the Sun and Moon are:\n",
        "\n",
        "1. **Right ascension of the ascending node**:\n",
        "\n",
        "$\\dot{\\Omega}_{M O O N}=-0.00338(\\cos i) / n$ \\\n",
        "$\\dot{\\Omega}_{S U N}=-0.00154(\\cos i) / n$\n",
        "\n",
        "2. **Argument of perigee**:\n",
        "\n",
        "$\\dot{\\boldsymbol{\\omega}}_{M O O N}=0.00169\\left(4-5 \\sin ^{2} i\\right) / n$ \\\n",
        "$\\dot{\\boldsymbol{\\omega}}_{S U N}=0.00077\\left(4-5 \\sin ^{2} i\\right) / n$\n",
        "\n",
        "### Perturbations Because of a Nonspherical Earth\n",
        "\n",
        "When developing the two-body equations o f motion, we assumed the Earth has a spherically symmetric mass distnbution. In fact, the Earth has a bulge at the equator, a slight pear shape, and flattening at the poles. We can find a satellite's acceleration by taking the gradient of the gravitational potential function, $\\Phi$. One widely used form ofthe geopotential function is:\n",
        "\n",
        "$\\Phi=(\\mu / r)\\left[1-\\sum_{n=2}^{\\infty} \\mathrm{J}_{\\mathrm{n}}\\left(\\mathrm{R}_{\\mathrm{E}} / r\\right)^{n} P_{n}(\\sin L)\\right]$\n",
        "\n",
        "where $\\mu =GM$ is Earth's gravitational constant, $R_E$ is Earth's equatorial radius, $P_n$ are Legendre polynomials, $L$ is geocentric latitude, and $J_n$ are dimensionless geopotential coefficients of which the first are:\n",
        "\n",
        "$J_2 = 0.00108263$ \\\n",
        "$J_3 = 0.00000254$ \\\n",
        "$J_4 = 0.00000161$ \n",
        "\n",
        "This form of the geopotential function depends on latitude, and we call the geopotential coefficients, $J_n$, *zonal coefficients*.\n",
        "\n",
        "The dominant effects, however, are secular variations in right ascension of the ascending node and argument of perigee because of the Earth's oblateness, represented by the $J_2$ term in the geopotential expansion. The rates of change of $\\Omega$ and $\\omega$ due to $J_2$ are:\n",
        "\n",
        "\n",
        "$\\dot{\\Omega}_{J_2}=-2.06474 \\times 10^{14} a^{-7/2}(\\cos i)(1-e^2)^{-2}$ \\\n",
        "$\\dot{\\omega}_{J_2}=-1.03237 \\times 10^{14} a^{-7/2}(4-5\\sin^{2} i)(1-e^2)^{-2}$ \n",
        "\n",
        "\n"
      ]
    },
    {
      "cell_type": "code",
      "execution_count": null,
      "metadata": {
        "id": "moWwFOkZ9iv7",
        "colab": {
          "base_uri": "https://localhost:8080/"
        },
        "outputId": "e4bfb332-fbfe-46b6-da2c-cbbe3c5df5f6"
      },
      "outputs": [
        {
          "output_type": "stream",
          "name": "stdout",
          "text": [
            "n: Revolutions per day=\n",
            "[15.83034272 15.73162361  2.00115195  2.00115195  1.00288611]\n",
            "           Shuttle              Sun Synchronous              GPS                   Molniya                   GEO            \n",
            "RAANmoon: [-0.0001885216837459469, 2.562571591564152e-05, -0.0008445135814094973, -0.000756277261758738, -0.0033702730086591494]\n",
            "RAANsun:[-8.589449496117108e-05, 1.1675622044404715e-05, -0.0003847783773285875, -0.0003445760305054605, -0.0015355681755429259]\n",
            "APmoon[0.0003093799107049242, -9.978595157854695e-05, 0.00021112839535237466, 2.0614607862409363e-06, 0.006740546017318299]\n",
            "APsun:[0.00014096007765845658, -4.5464605157089435e-05, 9.619459433214702e-05, 9.392454469855154e-07, 0.0030711363510858517]\n",
            "RAANj2:[-7.40522892534148, 0.9858192305677231, -0.03363176405370305, -0.15735043129568443, -0.013418787136389327]\n",
            "APj2:[-12.152602385829924, 3.8387575328807593, -0.008407941013425776, -0.00042890585267606624, -0.026837574272778653]\n"
          ]
        }
      ],
      "source": [
        "import matplotlib\n",
        "import matplotlib.pyplot as plt\n",
        "import numpy as np\n",
        "import pandas as pd\n",
        "import math\n",
        "import sys\n",
        "\n",
        "\n",
        "a = np.array([6700, 6728, 26600, 26600, 42160],dtype=float)\n",
        "e = np.array([0, 0, 0, 0.75, 0])\n",
        "i = np.array([28, 96.85, 60, 63.4, 0])\n",
        "\n",
        "mu = 398600 #G*M\n",
        "T0 = 2*math.pi* (((a[0]**3))/mu)**0.5 #Se usa para el calculo de n\n",
        "n0 = 24 *60 *60/T0\n",
        "T1 = 2*math.pi* (((a[1]**3))/mu)**0.5 \n",
        "n1 = 24 *60 *60/T1\n",
        "T2 = 2*math.pi* (((a[2]**3))/mu)**0.5 \n",
        "n2 = 24 *60 *60/T2\n",
        "T3 = 2*math.pi* (((a[3]**3))/mu)**0.5 \n",
        "n3 = 24 *60 *60/T3\n",
        "T4 = 2*math.pi* (((a[4]**3))/mu)**0.5 \n",
        "n4 = 24 *60 *60/T4\n",
        "\n",
        "n = np.array([n0  , n1  , n2  , n3 , n4 ])\n",
        "\n",
        "RAANmoon0 =-(0.00338 *(math.cos (i[0]*2*math.pi/360)))/n[0]\n",
        "RAANmoon1 =-(0.00338 *(math.cos (i[1]*2*math.pi/360)))/n[1]\n",
        "RAANmoon2 =-(0.00338 *(math.cos (i[2]*2*math.pi/360)))/n[2]\n",
        "RAANmoon3 =-(0.00338 *(math.cos (i[3]*2*math.pi/360)))/n[3]\n",
        "RAANmoon4 =-(0.00338 *(math.cos (i[4]*2*math.pi/360)))/n[4]\n",
        "RAANmoon = [RAANmoon0, RAANmoon1, RAANmoon2, RAANmoon3, RAANmoon4]\n",
        "RAANsun0 = -(0.00154* ( math.cos(i[0]*2*math.pi/360))/n[0])\n",
        "RAANsun1 = -(0.00154* ( math.cos(i[1]*2*math.pi/360))/n[1])\n",
        "RAANsun2 = -(0.00154* ( math.cos(i[2]*2*math.pi/360))/n[2])\n",
        "RAANsun3 = -(0.00154* ( math.cos(i[3]*2*math.pi/360))/n[3])\n",
        "RAANsun4 = -(0.00154* ( math.cos(i[4]*2*math.pi/360))/n[4])\n",
        "RAANsun = [RAANsun0, RAANsun1, RAANsun2 ,RAANsun3 ,RAANsun4]\n",
        "APmoon0 = 0.00169*(4-5*(math.sin(i[0]*2*math.pi/360)*(math.sin(i[0]*2*math.pi/360))))/n[0]\n",
        "APmoon1 = 0.00169*(4-5*(math.sin(i[1]*2*math.pi/360)*(math.sin(i[1]*2*math.pi/360))))/n[1]\n",
        "APmoon2 = 0.00169*(4-5*(math.sin(i[2]*2*math.pi/360)*(math.sin(i[2]*2*math.pi/360))))/n[2]\n",
        "APmoon3 = 0.00169*(4-5*(math.sin(i[3]*2*math.pi/360)*(math.sin(i[3]*2*math.pi/360))))/n[3]\n",
        "APmoon4 = 0.00169*(4-5*(math.sin(i[4]*2*math.pi/360)*(math.sin(i[4]*2*math.pi/360))))/n[4]\n",
        "APmoon = [APmoon0, APmoon1, APmoon2, APmoon3, APmoon4 ]\n",
        "APsun0 = 0.00077*(4-5*(math.sin(i[0]*2*math.pi/360)*(math.sin(i[0]*2*math.pi/360))))/n[0]\n",
        "APsun1 = 0.00077*(4-5*(math.sin(i[1]*2*math.pi/360)*(math.sin(i[1]*2*math.pi/360))))/n[1]\n",
        "APsun2 = 0.00077*(4-5*(math.sin(i[2]*2*math.pi/360)*(math.sin(i[2]*2*math.pi/360))))/n[2]\n",
        "APsun3 = 0.00077*(4-5*(math.sin(i[3]*2*math.pi/360)*(math.sin(i[3]*2*math.pi/360))))/n[3]\n",
        "APsun4 = 0.00077*(4-5*(math.sin(i[4]*2*math.pi/360)*(math.sin(i[4]*2*math.pi/360))))/n[4]\n",
        "APsun = [APsun0, APsun1, APsun2, APsun3, APsun4]\n",
        "RAANj20= (-2.06474 * 10**14) *(a[0])**(-3.5)* math.cos(i[0]*2*math.pi/360)*(1-e[0]*e[0])**-2\n",
        "RAANj21= (-2.06474 * 10**14) *(a[1])**(-3.5)* math.cos(i[1]*2*math.pi/360)*(1-e[1]*e[1])**-2\n",
        "RAANj22= (-2.06474 * 10**14) *(a[2])**(-3.5)* math.cos(i[2]*2*math.pi/360)*(1-e[2]*e[2])**-2\n",
        "RAANj23= (-2.06474 * 10**14) *(a[3])**(-3.5)* math.cos(i[3]*2*math.pi/360)*(1-e[3]*e[3])**-2\n",
        "RAANj24= (-2.06474 * 10**14) *(a[4])**(-3.5)* math.cos(i[4]*2*math.pi/360)*(1-e[4]*e[4])**-2\n",
        "RAANj2 =[RAANj20, RAANj21, RAANj22, RAANj23, RAANj24]\n",
        "APj20= (-1.03237*10**14) *(a[0])**(-3.5)* (4-5*(math.sin(i[0]*2*math.pi/360)**2))* (1-e[0]*e[0])**-2\n",
        "APj21= (-1.03237*10**14) *(a[1])**(-3.5)* (4-5*(math.sin(i[1]*2*math.pi/360)**2))* (1-e[1]*e[1])**-2\n",
        "APj22= (-1.03237*10**14) *(a[2])**(-3.5)* (4-5*(math.sin(i[2]*2*math.pi/360)**2))* (1-e[2]*e[2])**-2\n",
        "APj23= (-1.03237*10**14) *(a[3])**(-3.5)* (4-5*(math.sin(i[3]*2*math.pi/360)**2))* (1-e[3]*e[3])**-2\n",
        "APj24= (-1.03237*10**14) *(a[4])**(-3.5)* (4-5*(math.sin(i[4]*2*math.pi/360)**2))* (1-e[4]*e[4])**-2\n",
        "APj2 = [APj20,APj21, APj22, APj23, APj24 ]\n",
        "\n",
        "print (\"n: Revolutions per day=\")\n",
        "print(n)\n",
        "print (\"           Shuttle         \" \"     Sun Synchronous       \"   \"       GPS            \"  \"       Molniya           \" \"        GEO            \")\n",
        "print(f'RAANmoon: {RAANmoon}')\n",
        "print(f'RAANsun:{RAANsun}')\n",
        "print(f'APmoon{APmoon}')\n",
        "print(f'APsun:{APsun}')\n",
        "print(f'RAANj2:{RAANj2}')\n",
        "print(f'APj2:{APj2}')"
      ]
    },
    {
      "cell_type": "markdown",
      "source": [],
      "metadata": {
        "id": "bjASoZD4BbaP"
      }
    },
    {
      "cell_type": "markdown",
      "metadata": {
        "id": "LIbVywb69iv8"
      },
      "source": [
        "## Problem 2\n",
        "\n",
        "Consider that the mass of the earth is *M=5.974×10^24 Kg* and its\n",
        "radium is *R*=6378.144 Km. Consider a satellite orbiting in a parking\n",
        "circular orbit of 350 Km of height.\n",
        "\n",
        "<style type=\"text/css\">\n",
        "    ol { list-style-type: upper-alpha; }\n",
        "</style>\n",
        "\n",
        "1.  Compute the velocity of the satellite in the parking orbit.\n",
        "\n",
        "In a point of the circular trajectory is applied an impulse with a tangential velocity of ∆*v* \n",
        "\n",
        "2.  Compute the required impulse ∆*v* necessary to reach a parabolic orbit. \n",
        "\n",
        "3.  Plot the trajectories described by the satellite for impulses of 0\n",
        "    0.25∆*vp*, 0.50∆*vp*, 0.75∆*vp*, 1.00∆*vp*, y 1.25∆*vp*.\n",
        "\n",
        "It is planned to use an elliptical transfer orbit to transfer the\n",
        "satellite to a geostationary orbit.\n",
        "\n",
        "4.  Considering that the average solar year has a period of 365.2422\n",
        "    days compute the distance and height of the geostationary orbit. *(Tenemos que calcular el dia sinodico, hay que calcular el poco menos q rota la tierra en un dia)*\n",
        "\n",
        "5.  Compute the required momentum (∆*v) necessary to reach in the apogee the GEO orbit. \n",
        "\n",
        "6.  Plot the transfer orbit.\n",
        "\n",
        "7.  Plot the height and velocity marking the apogee and the perigee.\n",
        "\n",
        "8.  Compute the ∆v required to inject the satellite in the final geostationary orbit.\n",
        "\n",
        "9.  Describe qualitatively the operations needed for this orbital transfer.\n",
        "\n"
      ]
    },
    {
      "cell_type": "markdown",
      "metadata": {
        "id": "sS715u9X9iv9"
      },
      "source": [
        "## Resolution of Problem 2"
      ]
    },
    {
      "cell_type": "markdown",
      "metadata": {
        "id": "aUwPctXN9iv9"
      },
      "source": [
        "1.- **Compute the velocity of the satellite in the parking orbit.**"
      ]
    },
    {
      "cell_type": "code",
      "source": [
        "G = 6.67*10**-11\n",
        "M = 5.974*10**24\n",
        "Radio = 6378.144*10**3\n",
        "r = 350*10**3\n",
        "distancia = Radio + r\n",
        "velocidad = ((M*G/distancia)**0.5)\n",
        "print (f'Velocidad: {velocidad /1000:.3f} Km/s')"
      ],
      "metadata": {
        "colab": {
          "base_uri": "https://localhost:8080/"
        },
        "id": "J5d0dfgWTFWf",
        "outputId": "12f69f57-04c8-4ed8-a4d1-4acadbbe0c08"
      },
      "execution_count": null,
      "outputs": [
        {
          "output_type": "stream",
          "name": "stdout",
          "text": [
            "Velocidad: 7.696 Km/s\n"
          ]
        }
      ]
    },
    {
      "cell_type": "markdown",
      "metadata": {
        "id": "qVfAlfTf9iv9"
      },
      "source": [
        "2.  **Compute the required impulse ∆*v* necessary to reach a parabolic orbit**"
      ]
    },
    {
      "cell_type": "code",
      "execution_count": null,
      "metadata": {
        "id": "3Y4DXMjX9iv-",
        "colab": {
          "base_uri": "https://localhost:8080/"
        },
        "outputId": "29486c05-c3e3-49a2-8818-6b9c102653cb"
      },
      "outputs": [
        {
          "output_type": "stream",
          "name": "stdout",
          "text": [
            "Delta v: 3.188 Km/s\n"
          ]
        }
      ],
      "source": [
        "G = 6.67*10**-11\n",
        "M = 5.974*10**24\n",
        "Radio = 6378.144*10**3\n",
        "r =  350*10**3\n",
        "distancia = Radio + r\n",
        "v1 = ((2*G*M)/distancia)**0.5 \n",
        "v2 = ((G*M)/distancia)**0.5 \n",
        "deltav= v1-v2\n",
        "print (f'Delta v: {deltav /1000:.3f} Km/s')"
      ]
    },
    {
      "cell_type": "markdown",
      "metadata": {
        "id": "okYaPPO49iv-"
      },
      "source": [
        "3.  **Plot the trajectories described by the satellite for impulses of 0\n",
        "    0.25∆*vp*, 0.50∆*vp*, 0.75∆*vp*, 1.00∆*vp*, y 1.25∆*vp*.**"
      ]
    },
    {
      "cell_type": "code",
      "execution_count": null,
      "metadata": {
        "id": "qy8Pwa9I9iv-",
        "colab": {
          "base_uri": "https://localhost:8080/",
          "height": 295
        },
        "outputId": "d6bae006-7231-4b27-867d-19286e36cde6"
      },
      "outputs": [
        {
          "output_type": "display_data",
          "data": {
            "text/plain": [
              "<Figure size 432x288 with 1 Axes>"
            ],
            "image/png": "[encoded data removed]"
          },
          "metadata": {
            "needs_background": "light"
          }
        }
      ],
      "source": [
        "import matplotlib\n",
        "import matplotlib.pyplot as plt\n",
        "import numpy as np\n",
        "import pandas as pd\n",
        "import math\n",
        "from pylab import * \n",
        "\n",
        "G = 6.67*10**-11\n",
        "M = 5.974*10**24\n",
        "R = 6378.144*10**3\n",
        "r =  350*10**3\n",
        "distancia = R + r\n",
        "v1 = ((2*G*M)/distancia)**0.5 \n",
        "v2 = ((G*M)/distancia)**0.5 \n",
        "delta =v1-v2\n",
        "\n",
        "x = np.linspace(0, 2, 20)\n",
        "\n",
        "y = np.linspace (0,delta*2, 20)\n",
        "\n",
        "fig, ax = plt.subplots()\n",
        "#Creamos la Grafica\n",
        "ax.plot(x, y)\n",
        "plt.xlabel('Variation of delta')\n",
        "plt.ylabel('Value of delta')\n",
        "plt.title(\"Trajectory of the satellites\")\n",
        "plt.grid()\n",
        "plt.show()"
      ]
    },
    {
      "cell_type": "markdown",
      "metadata": {
        "id": "efXZC9HA9iv-"
      },
      "source": [
        "**Plot the trajectories described by the satellite with eccentricities = 0, 0.25, 0.5, 0.75**"
      ]
    },
    {
      "cell_type": "code",
      "execution_count": null,
      "metadata": {
        "id": "hf-i0jeK9iv_",
        "colab": {
          "base_uri": "https://localhost:8080/",
          "height": 295
        },
        "outputId": "a1db7ff0-5c0a-4cdd-c027-cfe563727bbc"
      },
      "outputs": [
        {
          "output_type": "display_data",
          "data": {
            "text/plain": [
              "<Figure size 432x288 with 1 Axes>"
            ],
            "image/png": "[encoded data removed]"
          },
          "metadata": {
            "needs_background": "light"
          }
        }
      ],
      "source": [
        "import matplotlib\n",
        "import matplotlib.pyplot as plt\n",
        "import numpy as np\n",
        "import pandas as pd\n",
        "import math\n",
        "from pylab import * \n",
        "\n",
        "G = 6.67*10**-11\n",
        "M = 5.974*10**24\n",
        "R = 6378.144*10**3\n",
        "r =  350*10**3\n",
        "distancia = R + r\n",
        "x= np.linspace(0, 0.75, 4)\n",
        "exc =np.array([0, 0.25, 0.5, 0.75])\n",
        "vexc2= ((1+exc)*G*M/distancia)**0.5\n",
        "vexc1=   (((1+exc)*2*G*M)/distancia)**0.5 \n",
        "deltaex = vexc1-vexc2 #excentricidad 0 da el valor de delta del ejercicio anterior y luego decae \n",
        "\n",
        "fig, ax = plt.subplots()\n",
        "plt.title('Trajectory')\n",
        "ax.plot(x, deltaex)\n",
        "plt.ylabel('Velocity')\n",
        "plt.xlabel('Eccentricities')\n",
        "plt.grid()\n",
        "plt.show()"
      ]
    },
    {
      "cell_type": "markdown",
      "metadata": {
        "id": "spw7Y4sB9iv_"
      },
      "source": [
        "**4.  Considering that the average solar year has a period of 365.2422\n",
        "    days compute the distance and height of the geostationary orbit.**"
      ]
    },
    {
      "cell_type": "code",
      "execution_count": null,
      "metadata": {
        "id": "mGNmoDR99iv_",
        "colab": {
          "base_uri": "https://localhost:8080/"
        },
        "outputId": "f68965d1-6ab9-4bfa-b13e-09653e483eee"
      },
      "outputs": [
        {
          "output_type": "stream",
          "name": "stdout",
          "text": [
            "Sideral time: 23.934 hours\n"
          ]
        }
      ],
      "source": [
        "dia = 360\n",
        "diasolar = 360.9856\n",
        "distancia = dia/diasolar\n",
        "distanciahoras = distancia *24\n",
        "print (f'Sideral time: {distanciahoras:.3f} hours')"
      ]
    },
    {
      "cell_type": "code",
      "source": [
        "G = 6.67*10**-11\n",
        "M = 5.974*10**24\n",
        "Radio = 6378.144*10**3\n",
        "vangular = 7.29*10**-5\n",
        "geo = (((G*M)/vangular**2)**(1/3))-Radio\n",
        "print (f'height Geo: {geo /1000:.3f} Km')"
      ],
      "metadata": {
        "colab": {
          "base_uri": "https://localhost:8080/"
        },
        "id": "AmLSMcT9FS5t",
        "outputId": "0383f8b9-d23f-4230-ea72-12a2da55eefe"
      },
      "execution_count": null,
      "outputs": [
        {
          "output_type": "stream",
          "name": "stdout",
          "text": [
            "height Geo: 35789.435 Km\n"
          ]
        }
      ]
    },
    {
      "cell_type": "markdown",
      "metadata": {
        "id": "fuYZza-C9iv_"
      },
      "source": [
        "**5.  Compute the required momentum (∆*v) necessary to reach in the apogee the GEO orbit.**"
      ]
    },
    {
      "cell_type": "code",
      "source": [
        "G = 6.67*10**-11 \n",
        "M = 5.974*10**24 \n",
        "Radio = 6378.144*10**3\n",
        "r = 350*10**3 \n",
        "v2 = (G*M/( Radio+r))**0.5 \n",
        "r1 = Radio +r \n",
        "r2= 35785*10**3 +Radio \n",
        "v1= ((2*G*M*r2)/(r1*(r1+r2)))**0.5 \n",
        "delta= v1-v2\n",
        "print (f'Delta v apogee: {delta /1000:.3f} Km/s')"
      ],
      "metadata": {
        "colab": {
          "base_uri": "https://localhost:8080/"
        },
        "id": "RF7jgg0B_bR9",
        "outputId": "9f27cc1d-2f2e-4bd0-95d2-b3aa1a29a741"
      },
      "execution_count": null,
      "outputs": [
        {
          "output_type": "stream",
          "name": "stdout",
          "text": [
            "10106.799251532344 7695.695707928714\n",
            "Delta v apogee: 2.411 Km/s\n"
          ]
        }
      ]
    },
    {
      "cell_type": "markdown",
      "metadata": {
        "id": "e-qtB3qJ9iwA"
      },
      "source": [
        "**6.  Plot the transfer orbit**"
      ]
    },
    {
      "cell_type": "code",
      "source": [
        "import matplotlib\n",
        "import matplotlib.pyplot as plt\n",
        "import numpy as np\n",
        "import pandas as pd\n",
        "import math\n",
        "from pylab import * \n",
        "\n",
        "G = 6.67*10**-11\n",
        "M = 5.974*10**24\n",
        "R = 6378.144*10**3\n",
        "r = 350*10**3\n",
        "v2 = (G*M/( R+r))**0.5\n",
        "r1 = R +r\n",
        "r2= 35785*10**3 +R\n",
        "v1= ((2*G*M*r2)/(r1*(r1+r2)))**0.5\n",
        "delta= (v1-v2)/1000\n",
        "theta = np.linspace(0, 2*np.pi, 1000) \n",
        "t  = np.linspace(0*delta, delta, 1000)\n",
        "\n",
        "fig = plt.figure()\n",
        "ax = fig.add_subplot(111, projection=\"polar\")\n",
        "ax.plot(theta,t, 'g.')\n",
        "\n",
        "plt.show()"
      ],
      "metadata": {
        "colab": {
          "base_uri": "https://localhost:8080/",
          "height": 286
        },
        "id": "gdDv0-rmA59P",
        "outputId": "344f2aa9-35e3-463f-eca1-6d1f5bf021cc"
      },
      "execution_count": null,
      "outputs": [
        {
          "output_type": "display_data",
          "data": {
            "text/plain": [
              "<Figure size 432x288 with 1 Axes>"
            ],
            "image/png": "[encoded data removed]"
          },
          "metadata": {
            "needs_background": "light"
          }
        }
      ]
    },
    {
      "cell_type": "markdown",
      "metadata": {
        "id": "gXpvql0o9iwA"
      },
      "source": [
        "**7.  Plot the height and velocity marking the apogee and the perigee.**"
      ]
    },
    {
      "cell_type": "code",
      "execution_count": 4,
      "metadata": {
        "id": "yXLQJjXT9iwB",
        "colab": {
          "base_uri": "https://localhost:8080/",
          "height": 295
        },
        "outputId": "2b8b7922-c0d9-4d17-8602-ec95318a1899"
      },
      "outputs": [
        {
          "output_type": "display_data",
          "data": {
            "text/plain": [
              "<Figure size 432x288 with 1 Axes>"
            ],
            "image/png": "[encoded data removed]"
          },
          "metadata": {
            "needs_background": "light"
          }
        }
      ],
      "source": [
        "import matplotlib\n",
        "import matplotlib.pyplot as plt\n",
        "import numpy as np\n",
        "import pandas as pd\n",
        "import math\n",
        "from pylab import * \n",
        "\n",
        "G = 6.67*10**-11\n",
        "M = 5.974*10**24\n",
        "R = 6378.144*10**3\n",
        "r =  350*10**3\n",
        "\n",
        "vangular = 7.29*10**-5\n",
        "geo = (((G*M)/vangular**2)**(1/3))-R\n",
        "\n",
        "r1=r+R\n",
        "r2=geo+R\n",
        "e= np.linspace(0,1,1000)\n",
        "distancia= np.linspace(r1,r2,1000)\n",
        "v1= ((1+e)*G*M/distancia)**0.5 \n",
        "\n",
        "\n",
        "fig, ax = plt.subplots()\n",
        "\n",
        "ax.plot(distancia,v1)\n",
        "plt.xlabel('Height (km)')\n",
        "plt.ylabel('Velocity (km/s)')\n",
        "plt.title(\"Apogee and perigee\")\n",
        "plt.grid()\n",
        "plt.show()"
      ]
    },
    {
      "cell_type": "markdown",
      "metadata": {
        "id": "ZaHHouY39iwB"
      },
      "source": [
        "**8.  Compute the ∆v required to inject the satellite in the final geostationary orbit.**\n",
        "\n"
      ]
    },
    {
      "cell_type": "code",
      "execution_count": null,
      "metadata": {
        "id": "ZCMyQOaD9iwB",
        "colab": {
          "base_uri": "https://localhost:8080/"
        },
        "outputId": "4a4e10b3-e99f-4ff1-de3d-193901faba22"
      },
      "outputs": [
        {
          "output_type": "stream",
          "name": "stdout",
          "text": [
            "Delta v: 1.461 Km/s\n"
          ]
        }
      ],
      "source": [
        "G = 6.67*10**-11\n",
        "M = 5.974*10**24\n",
        "Radio = 6378.144*10**3\n",
        "r = 350*10**3\n",
        "r1 = Radio +r\n",
        "r2= 35785*10**3 +Radio\n",
        "v1 = ((2*G*M*r1)/(r2*(r1+r2)))**0.5\n",
        "v2 = (G*M/( r2))**0.5\n",
        "deltav = v2- v1\n",
        "print (f'Delta v: {deltav /1000:.3f} Km/s')"
      ]
    },
    {
      "cell_type": "markdown",
      "metadata": {
        "id": "7ZuRqBLi9iwB"
      },
      "source": [
        "**9.  Describe qualitatively the operations needed for this orbital transfer.**\n",
        "\n"
      ]
    },
    {
      "cell_type": "markdown",
      "source": [
        "Tenemos un sátelite artificial y queremos que alcance una orbita geoestacionaria"
      ],
      "metadata": {
        "id": "FzMLmZAlEKPl"
      }
    },
    {
      "cell_type": "code",
      "source": [
        "r= 350000 #altura del satelite\n",
        "h = 35770000 #orbita\n",
        "M = 5.98 *10**24 #masa tierra\n",
        "G = 6.67*10**-11 #constante de gravitacion universal\n",
        "R =6370000 #radio tierra\n",
        "\n",
        "#Transformamos las alturas de las órbitas en distancias al centro de la Tierra\n",
        "\n",
        "r1= r+R\n",
        "r2= h +R\n",
        "\n",
        "\n",
        "deltaA = (((G*M)/r1)**0.5) *(0.4142) #esto ultimo es raiz de dos menos uno (poner ecuaciones enteras)\n",
        "print (f'Delta A: {deltaA :.3f} m/s')\n",
        "\n",
        "\n",
        "deltaB = (((G*M)/r2) *(3-2.82*(r1/r2)**0.5))**0.5\n",
        "print (f'Delta B: {deltaB :.3f} m/s')\n"
      ],
      "metadata": {
        "id": "tVGkx1Ma_c3n",
        "colab": {
          "base_uri": "https://localhost:8080/"
        },
        "outputId": "12ed09f2-7c93-4de6-80ba-14d54e85dd6c"
      },
      "execution_count": null,
      "outputs": [
        {
          "output_type": "stream",
          "name": "stdout",
          "text": [
            "Delta A: 3191.089 m/s\n",
            "Delta B: 4211.498 m/s\n"
          ]
        }
      ]
    }
  ],
  "metadata": {
    "kernelspec": {
      "display_name": "Python 3",
      "language": "python",
      "name": "python3"
    },
    "language_info": {
      "codemirror_mode": {
        "name": "ipython",
        "version": 3
      },
      "file_extension": ".py",
      "mimetype": "text/x-python",
      "name": "python",
      "nbconvert_exporter": "python",
      "pygments_lexer": "ipython3",
      "version": "3.8.3"
    },
    "colab": {
      "provenance": [],
      "collapsed_sections": []
    }
  },
  "nbformat": 4,
  "nbformat_minor": 0
}